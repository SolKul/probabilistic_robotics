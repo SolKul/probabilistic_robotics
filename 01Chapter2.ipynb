{
 "cells": [
  {
   "cell_type": "markdown",
   "metadata": {},
   "source": [
    "### 2-3"
   ]
  },
  {
   "cell_type": "code",
   "execution_count": 1,
   "metadata": {},
   "outputs": [
    {
     "data": {
      "text/plain": [
       "array([[0.8, 0.2, 0. ],\n",
       "       [0.4, 0.4, 0.2],\n",
       "       [0.2, 0.6, 0.2]])"
      ]
     },
     "execution_count": 1,
     "metadata": {},
     "output_type": "execute_result"
    }
   ],
   "source": [
    "import numpy as np\n",
    "stochastic_mat=np.array([[0.8,0.2,0],[0.4,0.4,0.2],[0.2,0.6,0.2]])\n",
    "stochastic_mat"
   ]
  },
  {
   "cell_type": "code",
   "execution_count": 2,
   "metadata": {
    "scrolled": true
   },
   "outputs": [
    {
     "data": {
      "text/plain": [
       "array([[0.6, 0.4, 0. ],\n",
       "       [0.3, 0.7, 0. ],\n",
       "       [0. , 0. , 1. ]])"
      ]
     },
     "execution_count": 2,
     "metadata": {},
     "output_type": "execute_result"
    }
   ],
   "source": [
    "measure_mat=np.array([[0.6,0.4,0],[0.3,0.7,0],[0,0,1]])\n",
    "measure_mat"
   ]
  },
  {
   "cell_type": "code",
   "execution_count": 5,
   "metadata": {},
   "outputs": [],
   "source": [
    "measured_list=['c','c','r','s']\n",
    "wether_map=dict(s=0,c=1,r=2)"
   ]
  },
  {
   "cell_type": "code",
   "execution_count": 25,
   "metadata": {},
   "outputs": [],
   "source": [
    "bel=[]\n",
    "bel.append( np.array( [1,0,0]) )"
   ]
  },
  {
   "cell_type": "code",
   "execution_count": 15,
   "metadata": {},
   "outputs": [],
   "source": [
    "bel_bar=[]\n",
    "bel_bar_tdy=[]\n",
    "bel_bar_tdy.append(stochastic_mat[bel[0][0],0])\n",
    "bel_bar_tdy.append(stochastic_mat[bel[0][1],])"
   ]
  },
  {
   "cell_type": "code",
   "execution_count": 26,
   "metadata": {},
   "outputs": [
    {
     "data": {
      "text/plain": [
       "0.8"
      ]
     },
     "execution_count": 26,
     "metadata": {},
     "output_type": "execute_result"
    }
   ],
   "source": [
    "stochastic_mat[0,0]*bel[0][0]"
   ]
  },
  {
   "cell_type": "code",
   "execution_count": 29,
   "metadata": {},
   "outputs": [
    {
     "data": {
      "text/plain": [
       "array([0.8, 0.2, 0. ])"
      ]
     },
     "execution_count": 29,
     "metadata": {},
     "output_type": "execute_result"
    }
   ],
   "source": [
    "bel_bar_tdy=bel[0] @ stochastic_mat\n",
    "bel_bar_tdy"
   ]
  },
  {
   "cell_type": "code",
   "execution_count": 44,
   "metadata": {},
   "outputs": [
    {
     "data": {
      "text/plain": [
       "0.32000000000000006"
      ]
     },
     "execution_count": 44,
     "metadata": {},
     "output_type": "execute_result"
    }
   ],
   "source": [
    "#実際は晴れで、計測が曇りのときの確率(の定数倍)\n",
    "measure_mat[0,1]*bel_bar_tdy[0]"
   ]
  },
  {
   "cell_type": "code",
   "execution_count": 43,
   "metadata": {},
   "outputs": [
    {
     "data": {
      "text/plain": [
       "array([0.69565217, 0.30434783, 0.        ])"
      ]
     },
     "execution_count": 43,
     "metadata": {},
     "output_type": "execute_result"
    }
   ],
   "source": [
    "bel_tdy=measure_mat[:,1]*bel_bar_tdy\n",
    "bel_tdy=bel_tdy/bel_tdy.sum()\n",
    "bel_tdy"
   ]
  },
  {
   "cell_type": "code",
   "execution_count": 21,
   "metadata": {
    "scrolled": false
   },
   "outputs": [
    {
     "data": {
      "text/plain": [
       "0"
      ]
     },
     "execution_count": 21,
     "metadata": {},
     "output_type": "execute_result"
    }
   ],
   "source": [
    "bel[0][1]"
   ]
  },
  {
   "cell_type": "code",
   "execution_count": 62,
   "metadata": {},
   "outputs": [
    {
     "data": {
      "text/plain": [
       "array([0.69565217, 0.30434783, 0.        ])"
      ]
     },
     "execution_count": 62,
     "metadata": {},
     "output_type": "execute_result"
    }
   ],
   "source": [
    "wether=measured_list[0]\n",
    "#計測が曇りのときの実際の天気の確率\n",
    "bel_tdy=measure_mat[:,wether_map[wether]]*bel_bar_tdy\n",
    "bel_tdy/=bel_tdy.sum()\n",
    "bel_tdy"
   ]
  },
  {
   "cell_type": "code",
   "execution_count": 6,
   "metadata": {},
   "outputs": [
    {
     "name": "stdout",
     "output_type": "stream",
     "text": [
      "[0.69565217 0.30434783 0.        ]\n",
      "[0.59770115 0.40229885 0.        ]\n",
      "[0. 0. 1.]\n",
      "[0.4 0.6 0. ]\n"
     ]
    }
   ],
   "source": [
    "wether_bel=np.array([1,0,0])\n",
    "for measuerd in measured_list:\n",
    "    #前の天気の確率に確率行列をかけて、計測する前の天気の確率とする。\n",
    "    bel_bar=wether_bel @ stochastic_mat\n",
    "    #計測がmeasuerdのときのそれぞれの実際の天気の確率\n",
    "    wether_bel=measure_mat[:,wether_map[measuerd]]*bel_bar\n",
    "    wether_bel/=wether_bel.sum()\n",
    "    print(wether_bel)"
   ]
  },
  {
   "cell_type": "markdown",
   "metadata": {},
   "source": [
    "### (b)"
   ]
  },
  {
   "cell_type": "code",
   "execution_count": 9,
   "metadata": {},
   "outputs": [
    {
     "name": "stdout",
     "output_type": "stream",
     "text": [
      "[0.88888889 0.11111111 0.        ]\n",
      "[0.87179487 0.12820513 0.        ]\n",
      "[0. 0. 1.]\n"
     ]
    }
   ],
   "source": [
    "measured_list=['s','s','r']\n",
    "wether_bel=np.array([1,0,0])\n",
    "for measuerd in measured_list:\n",
    "    #前の天気の確率に確率行列をかけて、計測する前の天気の確率とする。\n",
    "    bel_bar=wether_bel @ stochastic_mat\n",
    "    #計測がmeasuerdのときのそれぞれの実際の天気の確率\n",
    "    wether_bel=measure_mat[:,wether_map[measuerd]]*bel_bar\n",
    "    wether_bel/=wether_bel.sum()\n",
    "    print(wether_bel)"
   ]
  },
  {
   "cell_type": "markdown",
   "metadata": {},
   "source": [
    "$$\n",
    "p(x_1|z_1)=0.88\\\\\n",
    "p(x_1|z_{1:2})=\\eta p(z_2|x_1z_1)p(x_1|z_1)\n",
    "$$"
   ]
  },
  {
   "cell_type": "markdown",
   "metadata": {},
   "source": [
    "$$\n",
    "p(z_2|x_1,z_1)=\\int p(z_2|x_2)p(x_2|x_1)dx_2\n",
    "$$"
   ]
  },
  {
   "cell_type": "markdown",
   "metadata": {},
   "source": [
    "$$\n",
    "p(x_1=s)=1\n",
    "$$"
   ]
  }
 ],
 "metadata": {
  "kernelspec": {
   "display_name": "Python 3",
   "language": "python",
   "name": "python3"
  },
  "language_info": {
   "codemirror_mode": {
    "name": "ipython",
    "version": 3
   },
   "file_extension": ".py",
   "mimetype": "text/x-python",
   "name": "python",
   "nbconvert_exporter": "python",
   "pygments_lexer": "ipython3",
   "version": "3.6.5"
  },
  "toc": {
   "base_numbering": 1,
   "nav_menu": {},
   "number_sections": true,
   "sideBar": true,
   "skip_h1_title": false,
   "title_cell": "Table of Contents",
   "title_sidebar": "Contents",
   "toc_cell": false,
   "toc_position": {},
   "toc_section_display": true,
   "toc_window_display": false
  }
 },
 "nbformat": 4,
 "nbformat_minor": 2
}
